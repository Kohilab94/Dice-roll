{
 "cells": [
  {
   "cell_type": "code",
   "execution_count": 2,
   "id": "d3b7e059",
   "metadata": {},
   "outputs": [
    {
     "name": "stdout",
     "output_type": "stream",
     "text": [
      "Collecting turtle\n",
      "  Using cached turtle-0.0.2.tar.gz (11 kB)\n",
      "  Preparing metadata (setup.py): started\n",
      "  Preparing metadata (setup.py): finished with status 'error'\n",
      "Note: you may need to restart the kernel to use updated packages.\n"
     ]
    },
    {
     "name": "stderr",
     "output_type": "stream",
     "text": [
      "  error: subprocess-exited-with-error\n",
      "  \n",
      "  python setup.py egg_info did not run successfully.\n",
      "  exit code: 1\n",
      "  \n",
      "  [7 lines of output]\n",
      "  Traceback (most recent call last):\n",
      "    File \"<string>\", line 2, in <module>\n",
      "    File \"<pip-setuptools-caller>\", line 34, in <module>\n",
      "    File \"C:\\Users\\kohil\\AppData\\Local\\Temp\\pip-install-_nxu7qj0\\turtle_1c2d8093c14041eea73c9096599caca2\\setup.py\", line 40\n",
      "      except ValueError, ve:\n",
      "                       ^\n",
      "  SyntaxError: invalid syntax\n",
      "  [end of output]\n",
      "  \n",
      "  note: This error originates from a subprocess, and is likely not a problem with pip.\n",
      "error: metadata-generation-failed\n",
      "\n",
      "Encountered error while generating package metadata.\n",
      "\n",
      "See above for output.\n",
      "\n",
      "note: This is an issue with the package mentioned above, not pip.\n",
      "hint: See above for details.\n"
     ]
    }
   ],
   "source": [
    "pip install turtle"
   ]
  },
  {
   "cell_type": "code",
   "execution_count": 3,
   "id": "453bb0cb",
   "metadata": {},
   "outputs": [
    {
     "name": "stdout",
     "output_type": "stream",
     "text": [
      "Note: you may need to restart the kernel to use updated packages.\n"
     ]
    },
    {
     "name": "stderr",
     "output_type": "stream",
     "text": [
      "ERROR: Could not find a version that satisfies the requirement math (from versions: none)\n",
      "ERROR: No matching distribution found for math\n"
     ]
    }
   ],
   "source": [
    "pip install math"
   ]
  },
  {
   "cell_type": "code",
   "execution_count": 4,
   "id": "6fac405b",
   "metadata": {},
   "outputs": [],
   "source": [
    "import turtle\n",
    "import math\n",
    "from math import *"
   ]
  },
  {
   "cell_type": "code",
   "execution_count": 5,
   "id": "c5d7da81",
   "metadata": {},
   "outputs": [],
   "source": [
    "screen = turtle.Screen()\n",
    "screen.tracer(40)"
   ]
  },
  {
   "cell_type": "code",
   "execution_count": 6,
   "id": "42a6463c",
   "metadata": {},
   "outputs": [],
   "source": [
    "#Sun Creation\n",
    "sun=turtle.Turtle()\n",
    "sun.shape('circle')\n",
    "sun.color('orange')"
   ]
  },
  {
   "cell_type": "code",
   "execution_count": 7,
   "id": "8840db74",
   "metadata": {},
   "outputs": [],
   "source": [
    "#planet creation \n",
    "class Planet(turtle.Turtle):\n",
    "    def __init__(self,name,radius, color):\n",
    "        super().__init__(shape='circle')\n",
    "        self.name = name\n",
    "        self.radius = radius\n",
    "        self.c = color\n",
    "        self.color(self.c)\n",
    "        self.up()\n",
    "        self.pd()\n",
    "        self.angle = 0\n",
    "    def move(self):\n",
    "        x = self.radius*cos(self.angle) # Angle in radians\n",
    "        y = self.radius*sin(self.angle)\n",
    " \n",
    "        self.goto(sun.xcor()+x,sun.ycor()+y)\n",
    "        "
   ]
  },
  {
   "cell_type": "code",
   "execution_count": null,
   "id": "6dad5b84",
   "metadata": {},
   "outputs": [],
   "source": [
    "mercury = planet(\"Mercury\",40, 'grey')\n",
    "venu = planet(\"Venus\",80, 'pearly white')\n",
    "earth=Planet(\"Earth\",100,'vibrant blue')\n",
    "mars= planet(\"Mars\",150, 'dusky red')\n",
    "jupiter=planet(\"Jupiter\",180,'brown')\n",
    "saturn=planet(\"Saturn\",230, 'pink')\n",
    "uranus=planet(\"Uranus\",250, 'light blue')\n",
    "neptune=Planet(\"Neptune\",280, 'black')\n",
    "\n",
    " \n",
    "\n",
    "#adding planet to the lsit\n",
    "myList = [mercury,venus,earth,mars,jupiter,saturn,uranus,neptune]\n",
    "\n",
    "while True:\n",
    "    screen.update()\n",
    "    for i in myList:\n",
    "        i.move()\n"
   ]
  },
  {
   "cell_type": "code",
   "execution_count": null,
   "id": "e6760d1d",
   "metadata": {},
   "outputs": [],
   "source": [
    "\n",
    "mercury.angle +=0.05\n",
    "venus.angle +=0.03\n",
    "earth.angle +=0.01\n",
    "mars.angle +=0.007\n",
    "jupiter.angle +=0.02\n",
    "saturn.angle +=0.018\n",
    "uranus.angle +=0.016\n",
    "neptune.angle +=0.0005"
   ]
  },
  {
   "cell_type": "code",
   "execution_count": null,
   "id": "94a195c0",
   "metadata": {},
   "outputs": [],
   "source": []
  }
 ],
 "metadata": {
  "kernelspec": {
   "display_name": "Python 3 (ipykernel)",
   "language": "python",
   "name": "python3"
  },
  "language_info": {
   "codemirror_mode": {
    "name": "ipython",
    "version": 3
   },
   "file_extension": ".py",
   "mimetype": "text/x-python",
   "name": "python",
   "nbconvert_exporter": "python",
   "pygments_lexer": "ipython3",
   "version": "3.9.13"
  }
 },
 "nbformat": 4,
 "nbformat_minor": 5
}
