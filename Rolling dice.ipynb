{
 "cells": [
  {
   "cell_type": "code",
   "execution_count": 1,
   "id": "5ab482b1",
   "metadata": {},
   "outputs": [],
   "source": [
    "import random"
   ]
  },
  {
   "cell_type": "code",
   "execution_count": 2,
   "id": "96e5f078",
   "metadata": {},
   "outputs": [],
   "source": [
    "min_value = 1\n",
    "max_value = 6"
   ]
  },
  {
   "cell_type": "code",
   "execution_count": 10,
   "id": "e84e536e",
   "metadata": {},
   "outputs": [
    {
     "name": "stdout",
     "output_type": "stream",
     "text": [
      "rolling the dices..\n",
      "the values are..\n",
      "1 2\n",
      "press 'Yes' to roll the dices again.YES\n",
      "nothing\n"
     ]
    }
   ],
   "source": [
    "roll_again = \"Yes\"\n",
    "while roll_again == \"Yes\":\n",
    "    print(\"rolling the dices..\")\n",
    "    print(\"the values are..\")\n",
    "    value1=random.randint(min_value,max_value)\n",
    "    value2=random.randint(min_value,max_value)\n",
    "    print(value1,value2)\n",
    "    roll_again= input(\"press 'Yes' to roll the dices again.\")\n",
    "print(\"nothing\")"
   ]
  },
  {
   "cell_type": "code",
   "execution_count": null,
   "id": "fd852d94",
   "metadata": {},
   "outputs": [],
   "source": []
  }
 ],
 "metadata": {
  "kernelspec": {
   "display_name": "Python 3 (ipykernel)",
   "language": "python",
   "name": "python3"
  },
  "language_info": {
   "codemirror_mode": {
    "name": "ipython",
    "version": 3
   },
   "file_extension": ".py",
   "mimetype": "text/x-python",
   "name": "python",
   "nbconvert_exporter": "python",
   "pygments_lexer": "ipython3",
   "version": "3.11.4"
  }
 },
 "nbformat": 4,
 "nbformat_minor": 5
}
